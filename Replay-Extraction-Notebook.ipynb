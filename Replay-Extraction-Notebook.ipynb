{
 "cells": [
  {
   "cell_type": "markdown",
   "id": "12122ae7-4d43-4923-8e17-703fc9f0a503",
   "metadata": {},
   "source": [
    "# Replay Extraction\n",
    "## Luke Sullivan"
   ]
  },
  {
   "cell_type": "code",
   "execution_count": 8,
   "id": "85051708-b8e9-4465-8c9d-6767767deb31",
   "metadata": {},
   "outputs": [],
   "source": [
    "##########################\n",
    "# Imports\n",
    "##########################\n",
    "import pandas as pd\n",
    "import numpy as np\n",
    "import cv2\n",
    "from pytesseract import pytesseract"
   ]
  },
  {
   "cell_type": "markdown",
   "id": "b61c5038-fbfc-4d73-8711-4aa4125457c4",
   "metadata": {},
   "source": [
    "## Broadcast Download"
   ]
  },
  {
   "cell_type": "code",
   "execution_count": 9,
   "id": "b7eb0ce7-102f-4d87-bd9c-195c10d5e15c",
   "metadata": {},
   "outputs": [],
   "source": [
    "## yt-dlp"
   ]
  },
  {
   "cell_type": "code",
   "execution_count": 10,
   "id": "75b7b6b5-f0cb-408c-a5d6-c3801fbd496c",
   "metadata": {},
   "outputs": [],
   "source": [
    "path = \"test1.mp4\""
   ]
  },
  {
   "cell_type": "markdown",
   "id": "0ae37717-fb10-46c8-851c-662785b7d6b3",
   "metadata": {},
   "source": [
    "## Frame Extraction"
   ]
  },
  {
   "cell_type": "code",
   "execution_count": 11,
   "id": "606f418a-11b2-4c43-b792-cdba5c807157",
   "metadata": {},
   "outputs": [],
   "source": [
    "def frame_extraction(path):\n",
    "    cap = cv2.VideoCapture(path)\n",
    "    frames = []\n",
    "    \n",
    "    while cap.isOpened():\n",
    "        ret, frame = cap.read()\n",
    "        if not ret:\n",
    "            break\n",
    "        frames.append(frame)\n",
    "    \n",
    "    cap.release()\n",
    "    return frames"
   ]
  },
  {
   "cell_type": "markdown",
   "id": "f8cbf4fc-f8bb-40bd-b642-110277270532",
   "metadata": {},
   "source": [
    "### [Figure 1] Extracted Frames (before preprocessing)"
   ]
  },
  {
   "cell_type": "code",
   "execution_count": 12,
   "id": "06aea7b3-ca29-4b42-abad-0ddbad1c9c4c",
   "metadata": {},
   "outputs": [],
   "source": [
    "def display_frames(frames, num_frames=3):\n",
    "    if len(frames) < num_frames:\n",
    "        print(f\"Video has less than {num_frames} frames.\")\n",
    "        return\n",
    "    \n",
    "    random_frames = sample(frames, num_frames)\n",
    "    \n",
    "    fig, axes = plt.subplots(1, num_frames, figsize=(15, 5))\n",
    "    fig.suptitle(f'{num_frames} Random Frames from Video')\n",
    "    \n",
    "    for i, frame in enumerate(random_frames):\n",
    "        # Convert BGR to RGB\n",
    "        frame_rgb = cv2.cvtColor(frame, cv2.COLOR_BGR2RGB)\n",
    "        axes[i].imshow(frame_rgb)\n",
    "        axes[i].axis('off')\n",
    "        axes[i].set_title(f'Frame {i+1}')\n",
    "    \n",
    "    plt.tight_layout()\n",
    "    plt.show()"
   ]
  },
  {
   "cell_type": "code",
   "execution_count": null,
   "id": "149846c2-7b71-4343-a0e7-d41cf76b9abf",
   "metadata": {},
   "outputs": [],
   "source": [
    "frames = frame_extraction(path)\n",
    "display_frames(frames)"
   ]
  },
  {
   "cell_type": "markdown",
   "id": "16f7befc-1098-4f3c-b8db-3cfc8be21656",
   "metadata": {},
   "source": [
    "## Frame Preprocessing"
   ]
  },
  {
   "cell_type": "code",
   "execution_count": null,
   "id": "e4591460-f500-46c1-9529-fc56cb94f6da",
   "metadata": {},
   "outputs": [],
   "source": []
  }
 ],
 "metadata": {
  "kernelspec": {
   "display_name": "Python 3 (ipykernel)",
   "language": "python",
   "name": "python3"
  },
  "language_info": {
   "codemirror_mode": {
    "name": "ipython",
    "version": 3
   },
   "file_extension": ".py",
   "mimetype": "text/x-python",
   "name": "python",
   "nbconvert_exporter": "python",
   "pygments_lexer": "ipython3",
   "version": "3.11.7"
  }
 },
 "nbformat": 4,
 "nbformat_minor": 5
}
