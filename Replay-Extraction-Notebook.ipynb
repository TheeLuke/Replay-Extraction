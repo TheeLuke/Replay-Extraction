{
 "cells": [
  {
   "cell_type": "markdown",
   "id": "12122ae7-4d43-4923-8e17-703fc9f0a503",
   "metadata": {},
   "source": [
    "# Replay Extraction\n",
    "## Luke Sullivan"
   ]
  },
  {
   "cell_type": "code",
   "execution_count": 1,
   "id": "85051708-b8e9-4465-8c9d-6767767deb31",
   "metadata": {},
   "outputs": [
    {
     "ename": "SyntaxError",
     "evalue": "invalid syntax (874827464.py, line 7)",
     "output_type": "error",
     "traceback": [
      "\u001b[1;36m  Cell \u001b[1;32mIn[1], line 7\u001b[1;36m\u001b[0m\n\u001b[1;33m    from pytesseract imporrt pytesseract\u001b[0m\n\u001b[1;37m                     ^\u001b[0m\n\u001b[1;31mSyntaxError\u001b[0m\u001b[1;31m:\u001b[0m invalid syntax\n"
     ]
    }
   ],
   "source": [
    "##########################\n",
    "# Imports\n",
    "##########################\n",
    "import pandas as pd\n",
    "import numpy as np\n",
    "import cv2\n",
    "from pytesseract imporrt pytesseract"
   ]
  },
  {
   "cell_type": "code",
   "execution_count": null,
   "id": "e1a4ed7b-cf3a-4c62-8778-c2694b31d248",
   "metadata": {},
   "outputs": [],
   "source": []
  }
 ],
 "metadata": {
  "kernelspec": {
   "display_name": "Python 3 (ipykernel)",
   "language": "python",
   "name": "python3"
  },
  "language_info": {
   "codemirror_mode": {
    "name": "ipython",
    "version": 3
   },
   "file_extension": ".py",
   "mimetype": "text/x-python",
   "name": "python",
   "nbconvert_exporter": "python",
   "pygments_lexer": "ipython3",
   "version": "3.11.7"
  }
 },
 "nbformat": 4,
 "nbformat_minor": 5
}
